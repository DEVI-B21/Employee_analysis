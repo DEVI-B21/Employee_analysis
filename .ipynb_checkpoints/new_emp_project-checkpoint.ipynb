{
 "cells": [
  {
   "cell_type": "code",
   "execution_count": 1,
   "id": "c018f1f1",
   "metadata": {},
   "outputs": [
    {
     "name": "stdout",
     "output_type": "stream",
     "text": [
      "Model saved as employee_performance_model.pkl\n",
      "Mean Squared Error: 0.4582810000000266\n",
      "R-squared Score: 0.9728831153462096\n",
      "Feature: Tasks Completed, Score: 0.03320\n",
      "Feature: Task Completion Rate (%), Score: 0.92103\n",
      "Feature: Attendance Rate (%), Score: 0.02296\n",
      "Feature: Leaves Taken, Score: 0.00381\n",
      "Feature: Training Hours, Score: 0.01900\n",
      "Predicted Performance: 86.7%\n"
     ]
    }
   ],
   "source": [
    "import pandas as pd\n",
    "from sklearn.model_selection import train_test_split\n",
    "from sklearn.ensemble import RandomForestRegressor\n",
    "from sklearn.metrics import mean_squared_error, r2_score\n",
    "import joblib\n",
    "\n",
    "# Load your dataset from the specified path\n",
    "dataset_path = \"C:\\\\Users\\\\Devi B\\\\Desktop\\\\dataset.csv\"\n",
    "df = pd.read_csv(dataset_path)\n",
    "\n",
    "# Define the target variable: Performance Score\n",
    "df['Performance Score'] = (df['Task Completion Rate (%)'] * 0.6) + \\\n",
    "                          (df['Attendance Rate (%)'] * 0.3) + \\\n",
    "                          (df['Training Hours'] * 0.1)\n",
    "\n",
    "# Define features (input) and target (output)\n",
    "X = df[['Tasks Completed', 'Task Completion Rate (%)', 'Attendance Rate (%)', 'Leaves Taken', 'Training Hours']]\n",
    "y = df['Performance Score']\n",
    "\n",
    "# Split the data into training and test sets\n",
    "X_train, X_test, y_train, y_test = train_test_split(X, y, test_size=0.2, random_state=42)\n",
    "\n",
    "# Train a Random Forest Regressor model\n",
    "model = RandomForestRegressor(n_estimators=100, random_state=42)\n",
    "model.fit(X_train, y_train)\n",
    "\n",
    "# Save the trained model to a file for future use\n",
    "model_filename = 'employee_performance_model.pkl'\n",
    "joblib.dump(model, model_filename)\n",
    "print(f\"Model saved as {model_filename}\")\n",
    "\n",
    "# Evaluate model on test data\n",
    "y_pred = model.predict(X_test)\n",
    "mse = mean_squared_error(y_test, y_pred)\n",
    "r2 = r2_score(y_test, y_pred)\n",
    "print(f\"Mean Squared Error: {mse}\")\n",
    "print(f\"R-squared Score: {r2}\")\n",
    "\n",
    "# Display feature importance\n",
    "importance = model.feature_importances_\n",
    "for i, v in enumerate(importance):\n",
    "    print(f'Feature: {X.columns[i]}, Score: {v:.5f}')\n",
    "\n",
    "# Function to predict performance for a specific employee\n",
    "def predict_employee_performance(employee_data):\n",
    "    \"\"\"\n",
    "    Predict the performance score for a given employee based on their data.\n",
    "    Parameters:\n",
    "    employee_data (dict): A dictionary containing the employee's details.\n",
    "    Returns:\n",
    "    float: The predicted performance score.\n",
    "    \"\"\"\n",
    "    features = pd.DataFrame([employee_data])\n",
    "    predicted_performance = model.predict(features)[0]\n",
    "    return round(predicted_performance, 2)\n",
    "\n",
    "# Example usage: Predict performance for a specific employee\n",
    "if __name__ == \"__main__\":\n",
    "    # Example employee data (replace with actual employee details)\n",
    "    example_employee = {\n",
    "        'Tasks Completed': 120,  \n",
    "        'Task Completion Rate (%)': 95,\n",
    "        'Attendance Rate (%)': 98,\n",
    "        'Leaves Taken': 2,\n",
    "        'Training Hours': 8\n",
    "    }\n",
    "\n",
    "    predicted_performance = predict_employee_performance(example_employee)\n",
    "    print(f'Predicted Performance: {predicted_performance}%')\n"
   ]
  },
  {
   "cell_type": "code",
   "execution_count": 2,
   "id": "de66b9a6",
   "metadata": {},
   "outputs": [],
   "source": []
  },
  {
   "cell_type": "code",
   "execution_count": 3,
   "id": "f1a80e2e",
   "metadata": {},
   "outputs": [],
   "source": []
  },
  {
   "cell_type": "code",
   "execution_count": 4,
   "id": "bbd4221e",
   "metadata": {},
   "outputs": [],
   "source": []
  },
  {
   "cell_type": "code",
   "execution_count": 5,
   "id": "5bb26453",
   "metadata": {},
   "outputs": [],
   "source": []
  },
  {
   "cell_type": "code",
   "execution_count": 6,
   "id": "2d01db77",
   "metadata": {},
   "outputs": [],
   "source": [
    "\n"
   ]
  },
  {
   "cell_type": "code",
   "execution_count": 7,
   "id": "520dc544",
   "metadata": {},
   "outputs": [],
   "source": []
  },
  {
   "cell_type": "code",
   "execution_count": 8,
   "id": "52fab305",
   "metadata": {},
   "outputs": [],
   "source": [
    "\n"
   ]
  },
  {
   "cell_type": "code",
   "execution_count": 9,
   "id": "630b5562",
   "metadata": {},
   "outputs": [],
   "source": []
  },
  {
   "cell_type": "code",
   "execution_count": 10,
   "id": "78038e58",
   "metadata": {},
   "outputs": [],
   "source": []
  },
  {
   "cell_type": "code",
   "execution_count": null,
   "id": "1067d65e",
   "metadata": {},
   "outputs": [],
   "source": []
  }
 ],
 "metadata": {
  "kernelspec": {
   "display_name": "Python 3 (ipykernel)",
   "language": "python",
   "name": "python3"
  },
  "language_info": {
   "codemirror_mode": {
    "name": "ipython",
    "version": 3
   },
   "file_extension": ".py",
   "mimetype": "text/x-python",
   "name": "python",
   "nbconvert_exporter": "python",
   "pygments_lexer": "ipython3",
   "version": "3.12.4"
  }
 },
 "nbformat": 4,
 "nbformat_minor": 5
}
